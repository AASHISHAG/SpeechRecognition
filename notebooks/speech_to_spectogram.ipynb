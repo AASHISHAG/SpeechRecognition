{
 "cells": [
  {
   "cell_type": "code",
   "execution_count": 4,
   "metadata": {},
   "outputs": [
    {
     "name": "stdout",
     "output_type": "stream",
     "text": [
      "['bed', 'bird', 'cat', 'dog', 'down', 'eight', 'five', 'four', 'go', 'happy', 'house', 'left', 'marvin', 'nine', 'no', 'off', 'on', 'one', 'right', 'seven', 'sheila', 'six', 'stop', 'three', 'tree', 'two', 'up', 'wow', 'yes', 'zero', '_background_noise_']\n"
     ]
    }
   ],
   "source": [
    "import os\n",
    "from pathlib import Path\n",
    "import IPython.display as ipd\n",
    "\n",
    "import numpy as np # linear algebra\n",
    "import pandas as pd # data processing, CSV file I/O (e.g. pd.read_csv)\n",
    "import matplotlib.pyplot as plt\n",
    "from scipy import signal\n",
    "from scipy.io import wavfile\n",
    "\n",
    "\n",
    "from subprocess import check_output\n",
    "\n",
    "folders = os.listdir(\"C:/Users/Aashish Agarwal/PycharmProjects/STT/Input/train/audio\")\n",
    "print(folders)\n"
   ]
  },
  {
   "cell_type": "code",
   "execution_count": 5,
   "metadata": {},
   "outputs": [
    {
     "name": "stdout",
     "output_type": "stream",
     "text": [
      "Number of labels: 30\n",
      "(64721, 2)\n"
     ]
    }
   ],
   "source": [
    "train_audio_path = 'C:/Users/Aashish Agarwal/PycharmProjects/STT/Input/train/audio'\n",
    "\n",
    "train_labels = os.listdir(train_audio_path)\n",
    "train_labels.remove('_background_noise_')\n",
    "print(f'Number of labels: {len(train_labels)}')\n",
    "\n",
    "labels_to_keep = ['yes', 'no', 'up', 'down', 'left',\n",
    "                  'right', 'on', 'off', 'stop', 'go', 'silence']\n",
    "\n",
    "train_file_labels = dict()\n",
    "for label in train_labels:\n",
    "    files = os.listdir(train_audio_path + '/' + label)\n",
    "    for f in files:\n",
    "        train_file_labels[label + '/' + f] = label\n",
    "\n",
    "train = pd.DataFrame.from_dict(train_file_labels, orient='index')\n",
    "train = train.reset_index(drop=False)\n",
    "train = train.rename(columns={'index': 'file', 0: 'folder'})\n",
    "train = train[['folder', 'file']]\n",
    "train = train.sort_values('file')\n",
    "train = train.reset_index(drop=True)\n",
    "print(train.shape)\n",
    "\n",
    "def remove_label_from_file(label, fname):\n",
    "    return fname[len(label)+1:]\n",
    "\n",
    "train['file'] = train.apply(lambda x: remove_label_from_file(*x), axis=1)\n",
    "train['label'] = train['folder'].apply(lambda x: x if x in labels_to_keep else 'unknown')"
   ]
  },
  {
   "cell_type": "code",
   "execution_count": 6,
   "metadata": {},
   "outputs": [],
   "source": [
    "sample_rate, samples = wavfile.read(str(train_audio_path) + '/house/61e50f62_nohash_1.wav')\n",
    "frequencies, times, spectogram = signal.spectrogram(samples, sample_rate)"
   ]
  },
  {
   "cell_type": "code",
   "execution_count": 7,
   "metadata": {},
   "outputs": [
    {
     "data": {
      "text/plain": [
       "16000"
      ]
     },
     "execution_count": 7,
     "metadata": {},
     "output_type": "execute_result"
    }
   ],
   "source": [
    "sample_rate"
   ]
  },
  {
   "cell_type": "code",
   "execution_count": 8,
   "metadata": {},
   "outputs": [
    {
     "data": {
      "text/plain": [
       "array([   0. ,   62.5,  125. ,  187.5,  250. ,  312.5,  375. ,  437.5,\n",
       "        500. ,  562.5,  625. ,  687.5,  750. ,  812.5,  875. ,  937.5,\n",
       "       1000. , 1062.5, 1125. , 1187.5, 1250. , 1312.5, 1375. , 1437.5,\n",
       "       1500. , 1562.5, 1625. , 1687.5, 1750. , 1812.5, 1875. , 1937.5,\n",
       "       2000. , 2062.5, 2125. , 2187.5, 2250. , 2312.5, 2375. , 2437.5,\n",
       "       2500. , 2562.5, 2625. , 2687.5, 2750. , 2812.5, 2875. , 2937.5,\n",
       "       3000. , 3062.5, 3125. , 3187.5, 3250. , 3312.5, 3375. , 3437.5,\n",
       "       3500. , 3562.5, 3625. , 3687.5, 3750. , 3812.5, 3875. , 3937.5,\n",
       "       4000. , 4062.5, 4125. , 4187.5, 4250. , 4312.5, 4375. , 4437.5,\n",
       "       4500. , 4562.5, 4625. , 4687.5, 4750. , 4812.5, 4875. , 4937.5,\n",
       "       5000. , 5062.5, 5125. , 5187.5, 5250. , 5312.5, 5375. , 5437.5,\n",
       "       5500. , 5562.5, 5625. , 5687.5, 5750. , 5812.5, 5875. , 5937.5,\n",
       "       6000. , 6062.5, 6125. , 6187.5, 6250. , 6312.5, 6375. , 6437.5,\n",
       "       6500. , 6562.5, 6625. , 6687.5, 6750. , 6812.5, 6875. , 6937.5,\n",
       "       7000. , 7062.5, 7125. , 7187.5, 7250. , 7312.5, 7375. , 7437.5,\n",
       "       7500. , 7562.5, 7625. , 7687.5, 7750. , 7812.5, 7875. , 7937.5,\n",
       "       8000. ])"
      ]
     },
     "execution_count": 8,
     "metadata": {},
     "output_type": "execute_result"
    }
   ],
   "source": [
    "frequencies"
   ]
  },
  {
   "cell_type": "code",
   "execution_count": 9,
   "metadata": {},
   "outputs": [
    {
     "data": {
      "text/plain": [
       "array([0.008, 0.022, 0.036, 0.05 , 0.064, 0.078, 0.092, 0.106, 0.12 ,\n",
       "       0.134, 0.148, 0.162, 0.176, 0.19 , 0.204, 0.218, 0.232, 0.246,\n",
       "       0.26 , 0.274, 0.288, 0.302, 0.316, 0.33 , 0.344, 0.358, 0.372,\n",
       "       0.386, 0.4  , 0.414, 0.428, 0.442, 0.456, 0.47 , 0.484, 0.498,\n",
       "       0.512, 0.526, 0.54 , 0.554, 0.568, 0.582, 0.596, 0.61 , 0.624,\n",
       "       0.638, 0.652, 0.666, 0.68 , 0.694, 0.708, 0.722, 0.736, 0.75 ,\n",
       "       0.764, 0.778, 0.792, 0.806, 0.82 , 0.834, 0.848, 0.862, 0.876,\n",
       "       0.89 , 0.904, 0.918, 0.932, 0.946, 0.96 , 0.974, 0.988])"
      ]
     },
     "execution_count": 9,
     "metadata": {},
     "output_type": "execute_result"
    }
   ],
   "source": [
    "times"
   ]
  },
  {
   "cell_type": "code",
   "execution_count": 10,
   "metadata": {},
   "outputs": [
    {
     "data": {
      "text/plain": [
       "<matplotlib.image.AxesImage at 0x16e2ae9fc18>"
      ]
     },
     "execution_count": 10,
     "metadata": {},
     "output_type": "execute_result"
    },
    {
     "data": {
      "image/png": "[encoded data removed]",
      "text/plain": [
       "<Figure size 720x720 with 1 Axes>"
      ]
     },
     "metadata": {},
     "output_type": "display_data"
    }
   ],
   "source": [
    "fig = plt.figure(figsize = (10,10))\n",
    "ax1 = fig.add_subplot(111)\n",
    "ax1.set_xticks([])\n",
    "ax1.set_yticks([])\n",
    "\n",
    "ax1.set_title('Spectogram - House')\n",
    "ax1.imshow(spectogram)"
   ]
  },
  {
   "cell_type": "code",
   "execution_count": 11,
   "metadata": {},
   "outputs": [
    {
     "data": {
      "text/plain": [
       "<matplotlib.image.AxesImage at 0x16e2b1193c8>"
      ]
     },
     "execution_count": 11,
     "metadata": {},
     "output_type": "execute_result"
    },
    {
     "data": {
      "image/png": "[encoded data removed]",
      "text/plain": [
       "<Figure size 720x720 with 1 Axes>"
      ]
     },
     "metadata": {},
     "output_type": "display_data"
    }
   ],
   "source": [
    "sample_rate, samples = wavfile.read(str(train_audio_path) + '/eight/25132942_nohash_2.wav')\n",
    "frequencies, times, spectogram = signal.spectrogram(samples, sample_rate)\n",
    "fig = plt.figure(figsize = (10,10))\n",
    "ax1 = fig.add_subplot(111)\n",
    "ax1.set_xticks([])\n",
    "ax1.set_yticks([])\n",
    "\n",
    "ax1.set_title('Spectogram - Eight')\n",
    "ax1.imshow(spectogram)"
   ]
  },
  {
   "cell_type": "code",
   "execution_count": 12,
   "metadata": {},
   "outputs": [
    {
     "data": {
      "text/plain": [
       "<matplotlib.image.AxesImage at 0x16e2b123470>"
      ]
     },
     "execution_count": 12,
     "metadata": {},
     "output_type": "execute_result"
    },
    {
     "data": {
      "image/png": "[encoded data removed]",
      "text/plain": [
       "<Figure size 720x720 with 1 Axes>"
      ]
     },
     "metadata": {},
     "output_type": "display_data"
    }
   ],
   "source": [
    "sample_rate, samples = wavfile.read(str(train_audio_path) + '/happy/43f57297_nohash_0.wav')\n",
    "frequencies, times, spectogram = signal.spectrogram(samples, sample_rate)\n",
    "fig = plt.figure(figsize = (10,10))\n",
    "ax1 = fig.add_subplot(111)\n",
    "ax1.set_xticks([])\n",
    "ax1.set_yticks([])\n",
    "\n",
    "ax1.set_title('Spectogram - Happy')\n",
    "ax1.imshow(spectogram)"
   ]
  },
  {
   "cell_type": "code",
   "execution_count": 13,
   "metadata": {},
   "outputs": [
    {
     "data": {
      "text/plain": [
       "<matplotlib.image.AxesImage at 0x16e2aedd668>"
      ]
     },
     "execution_count": 13,
     "metadata": {},
     "output_type": "execute_result"
    },
    {
     "data": {
      "image/png": "[encoded data removed]",
      "text/plain": [
       "<Figure size 720x720 with 1 Axes>"
      ]
     },
     "metadata": {},
     "output_type": "display_data"
    }
   ],
   "source": [
    "sample_rate, samples = wavfile.read(str(train_audio_path) + '/three/19e246ad_nohash_0.wav')\n",
    "frequencies, times, spectogram = signal.spectrogram(samples, sample_rate)\n",
    "fig = plt.figure(figsize = (10,10))\n",
    "ax1 = fig.add_subplot(111)\n",
    "ax1.set_xticks([])\n",
    "ax1.set_yticks([])\n",
    "\n",
    "ax1.set_title('Spectogram - Three')\n",
    "ax1.imshow(spectogram)"
   ]
  },
  {
   "cell_type": "code",
   "execution_count": null,
   "metadata": {},
   "outputs": [],
   "source": []
  }
 ],
 "metadata": {
  "kernelspec": {
   "display_name": "Python 3",
   "language": "python",
   "name": "python3"
  },
  "language_info": {
   "codemirror_mode": {
    "name": "ipython",
    "version": 3
   },
   "file_extension": ".py",
   "mimetype": "text/x-python",
   "name": "python",
   "nbconvert_exporter": "python",
   "pygments_lexer": "ipython3",
   "version": "3.7.0"
  }
 },
 "nbformat": 4,
 "nbformat_minor": 2
}
